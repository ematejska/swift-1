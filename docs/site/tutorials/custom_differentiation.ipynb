{
 "cells": [
  {
   "cell_type": "markdown",
   "metadata": {
    "colab_type": "text",
    "id": "ZloPIuRHn97X"
   },
   "source": [
    "##### Copyright 2018 The TensorFlow Authors. [Licensed under the Apache License, Version 2.0](#scrollTo=Afd8bu4xJOgh)."
   ]
  },
  {
   "cell_type": "code",
   "execution_count": 0,
   "metadata": {
    "colab": {},
    "colab_type": "code",
    "id": "tNgCmfUvJNoF"
   },
   "outputs": [],
   "source": [
    "#@title Licensed under the Apache License, Version 2.0 (the \"License\"); { display-mode: \"form\" }\n",
    "// Licensed under the Apache License, Version 2.0 (the \"License\");\n",
    "// you may not use this file except in compliance with the License.\n",
    "// You may obtain a copy of the License at\n",
    "//\n",
    "// https://www.apache.org/licenses/LICENSE-2.0\n",
    "//\n",
    "// Unless required by applicable law or agreed to in writing, software\n",
    "// distributed under the License is distributed on an \"AS IS\" BASIS,\n",
    "// WITHOUT WARRANTIES OR CONDITIONS OF ANY KIND, either express or implied.\n",
    "// See the License for the specific language governing permissions and\n",
    "// limitations under the License."
   ]
  },
  {
   "cell_type": "markdown",
   "metadata": {
    "colab_type": "text",
    "id": "AlvdCHw5JGyx"
   },
   "source": [
    "<table class=\"tfo-notebook-buttons\" align=\"left\">\n",
    "  <td>\n",
    "    <a target=\"_blank\" href=\"https://www.tensorflow.org/swift/tutorials/custom_differentiation\"><img src=\"https://www.tensorflow.org/images/tf_logo_32px.png\" />View on TensorFlow.org</a>\n",
    "  </td>\n",
    "  <td>\n",
    "    <a target=\"_blank\" href=\"https://colab.research.google.com/github/tensorflow/swift/blob/master/docs/site/tutorials/custom_differentiation.ipynb\"><img src=\"https://www.tensorflow.org/images/colab_logo_32px.png\" />Run in Google Colab</a>\n",
    "  </td>\n",
    "  <td>\n",
    "    <a target=\"_blank\" href=\"https://github.com/tensorflow/swift/blob/master/docs/site/tutorials/custom_differentiation.ipynb\"><img src=\"https://www.tensorflow.org/images/GitHub-Mark-32px.png\" />View source on GitHub</a>\n",
    "  </td>\n",
    "</table>"
   ]
  },
  {
   "cell_type": "markdown",
   "metadata": {
    "colab_type": "text",
    "id": "c_1u7JSBMx3x"
   },
   "source": [
    "# Custom differentiation\n",
    "\n",
    "This tutorial will show you how to define your own custom derivatives, perform derivative surgery, and implement your own gradient checkpointing API in just 5 lines of Swift."
   ]
  },
  {
   "cell_type": "markdown",
   "metadata": {
    "colab_type": "text",
    "id": "gHuQo_kCTjFr"
   },
   "source": [
    "## Declaring custom derivatives"
   ]
  },
  {
   "cell_type": "markdown",
   "metadata": {
    "colab_type": "text",
    "id": "LP0gMw56TlvH"
   },
   "source": [
    "You can define custom derivatives for any Swift function that has differentiable parameters and results. By doing that, you can even import a C function and make it differentiable."
   ]
  },
  {
   "cell_type": "code",
   "execution_count": 1,
   "metadata": {
    "colab": {
     "base_uri": "https://localhost:8080/",
     "height": 85
    },
    "colab_type": "code",
    "id": "j0a8prgZTlEO",
    "outputId": "f0f65b8a-30ce-46bb-a6c5-efe3e8956e44"
   },
   "outputs": [
    {
     "name": "stdout",
     "output_type": "stream",
     "text": [
      "Taking 𝑒(2.7182817) to the power of 3.0!\r\n",
      "exp(3) = 20.085535\r\n",
      "Taking 𝑒(2.7182817) to the power of 3.0!\r\n",
      "𝛁exp(3) = 20.085535\r\n"
     ]
    }
   ],
   "source": [
    "import Glibc\n",
    "\n",
    "func sillyExp(_ x: Float) -> Float {\n",
    "    let 𝑒 = Float(M_E)\n",
    "    print(\"Taking 𝑒(\\(𝑒)) to the power of \\(x)!\")\n",
    "    return pow(𝑒, x)\n",
    "}\n",
    "\n",
    "@differentiating(sillyExp)\n",
    "func sillyDerivative(_ x: Float) -> (value: Float, pullback: (Float) -> Float) {\n",
    "    let y = sillyExp(x)\n",
    "    return (value: y, pullback: { v in v * y })\n",
    "}\n",
    "\n",
    "print(\"exp(3) =\", sillyExp(3))\n",
    "print(\"𝛁exp(3) =\", gradient(of: sillyExp)(3))"
   ]
  },
  {
   "cell_type": "markdown",
   "metadata": {
    "colab_type": "text",
    "id": "eQPX9r3R5OP-"
   },
   "source": [
    "## Stop derivatives from propagating\n",
    "\n",
    "Commonly known as \"stop gradient\" in machine learning use cases, method `withoutDerivative(at:)` stops derivatives from propagating.\n",
    "\n",
    "Plus, `withoutDerivative(at:)` can sometimes help the Swift compiler with identifying what not to differentiate and producing more efficient derivaitves. When it is detectable that the derivative of a function will always be zero, the Swift compiler will produce a warning. Explicitly using `withoutDerivative(at:)` silences that warning."
   ]
  },
  {
   "cell_type": "code",
   "execution_count": 2,
   "metadata": {
    "colab": {
     "base_uri": "https://localhost:8080/",
     "height": 68
    },
    "colab_type": "code",
    "id": "ctRt6vBO5Wle",
    "outputId": "49580e7d-0bde-4e78-b825-12444bf39767"
   },
   "outputs": [
    {
     "data": {
      "text/plain": [
       "▿ 2 elements\n",
       "  - .0 : -0.18009877\n",
       "  - .1 : 0.0\n"
      ]
     },
     "execution_count": 2,
     "metadata": {},
     "output_type": "execute_result"
    }
   ],
   "source": [
    "let x: Float = 2.0\n",
    "let y: Float = 3.0\n",
    "gradient(at: x, y) { x, y in\n",
    "    sin(sin(sin(x))) + withoutDerivative(at: cos(cos(cos(y))))\n",
    "}"
   ]
  },
  {
   "cell_type": "markdown",
   "metadata": {
    "colab_type": "text",
    "id": "EeV3wXQ79WS2"
   },
   "source": [
    "## Derivative surgery\n",
    "\n",
    "Method [`withDerivative(_:)`](https://www.tensorflow.org/swift/api_docs/Protocols/Differentiable#/s:10TensorFlow14DifferentiablePAAE12withGradientyxy15CotangentVectorQzzcF) makes arbitrary operations (including mutation) run on the gradient at a value during the enclosing function’s backpropagation. \n",
    "\n",
    "Use this to debug or make experimental tweaks to backpropagation."
   ]
  },
  {
   "cell_type": "markdown",
   "metadata": {
    "colab_type": "text",
    "id": "AHV0ryTiD6j8"
   },
   "source": [
    "### It works anywhere"
   ]
  },
  {
   "cell_type": "markdown",
   "metadata": {
    "colab_type": "text",
    "id": "9zKSeUjTmbxq"
   },
   "source": [
    "All differentiation APIs provided by the standard library are defined generically over all types that conform to the `Differentiable` protocol: `Float`, `Double`, `Float80`, SIMD vectors, and even your own types!\n",
    "\n",
    "Read technical document [Differentiable Types](https://github.com/tensorflow/swift/blob/master/docs/DifferentiableTypes.md) for more insights on the `Differentiable` protocol."
   ]
  },
  {
   "cell_type": "code",
   "execution_count": 3,
   "metadata": {
    "colab": {
     "base_uri": "https://localhost:8080/",
     "height": 68
    },
    "colab_type": "code",
    "id": "eKne7szjD8lr",
    "outputId": "31bba009-3758-4179-92dc-f080dcba8421"
   },
   "outputs": [
    {
     "name": "stdout",
     "output_type": "stream",
     "text": [
      "∂log/∂x = 0.033333335, but rewritten to 0.5\r\n",
      "∂+/∂sin = 1.0\r\n"
     ]
    },
    {
     "data": {
      "text/plain": [
       "0.65425146\n"
      ]
     },
     "execution_count": 3,
     "metadata": {},
     "output_type": "execute_result"
    }
   ],
   "source": [
    "var x: Float = 30\n",
    "x.gradient { x -> Float in\n",
    "    // Print the partial derivative with respect to the result of `sin(x)`.\n",
    "    let a = sin(x).withDerivative { print(\"∂+/∂sin = \\($0)\") } \n",
    "    // Force the partial derivative with respect to `x` to be `0.5`.\n",
    "    let b = log(x.withDerivative { (dx: inout Float) in\n",
    "        print(\"∂log/∂x = \\(dx), but rewritten to 0.5\");\n",
    "        dx = 0.5\n",
    "    })\n",
    "    return a + b\n",
    "}"
   ]
  },
  {
   "cell_type": "markdown",
   "metadata": {
    "colab_type": "text",
    "id": "vmw0gkqlD9xf"
   },
   "source": [
    "### Use it in a neural network module"
   ]
  },
  {
   "cell_type": "markdown",
   "metadata": {
    "colab_type": "text",
    "id": "JCf_OplsWzhW"
   },
   "source": [
    "Just like how we used it in a simple `Float` function, we can use it in any numerical application, like the following neural network built using the [Swift for TensorFlow Deep Learning Library](https://github.com/tensorflow/swift-apis)."
   ]
  },
  {
   "cell_type": "code",
   "execution_count": 4,
   "metadata": {
    "colab": {
     "base_uri": "https://localhost:8080/",
     "height": 547
    },
    "colab_type": "code",
    "id": "fnSeAbs9-hf3",
    "outputId": "80ea60b8-e17c-47d5-9364-c8768c3e377e"
   },
   "outputs": [
    {
     "name": "stdout",
     "output_type": "stream",
     "text": [
      "Loss: 0.36787152\r\n",
      "∂L/∂ŷ = [[      -0.25],\r\n",
      " [-0.21979737],\r\n",
      " [0.029429317],\r\n",
      " [ 0.07870537]]\r\n",
      "∂L/∂layer1 = [[         0.0,          0.0,          0.0,          0.0,          0.0,          0.0,\r\n",
      "           0.0,          0.0,          0.0,          0.0],\r\n",
      " [  0.15134498,   0.08074134,  -0.12006457,  -0.16216259,  -0.06618697,    0.0525441,\r\n",
      "  -0.110061675, -0.025550669,  0.088662766, -0.028133495],\r\n",
      " [-0.020264026, -0.010810695,    0.0160758,  0.021712426,  0.008861968, -0.007035284,\r\n",
      "   0.014736481, 0.0034210542, -0.011871318, 0.0037668764],\r\n",
      " [ -0.05419384, -0.028911978,    0.0429929,   0.05806742,   0.02370033, -0.018815069,\r\n",
      "    0.03941105,  0.009149222, -0.031748496,  0.010074084]]\r\n",
      "Loss: 0.36323816\r\n",
      "∂L/∂ŷ = [[-0.24787295],\r\n",
      " [-0.21167284],\r\n",
      " [0.028472602],\r\n",
      " [ 0.07861963]]\r\n",
      "∂L/∂layer1 = [[  0.17034283,   0.09112822,  -0.13597326,  -0.18259563,  -0.07435731,   0.05882091,\r\n",
      "    -0.1241397, -0.028814355,  0.099882215,  -0.03209903],\r\n",
      " [  0.14546545,  0.077819586, -0.116115324,   -0.1559288, -0.063497946,   0.05023053,\r\n",
      "   -0.10600996,  -0.02460622,   0.08529512, -0.027411193],\r\n",
      " [-0.019566894, -0.010467692,   0.01561894,  0.020974344,  0.008541255, -0.006756624,\r\n",
      "   0.014259645, 0.0033098394, -0.011473243, 0.0036871426],\r\n",
      " [ -0.05402885, -0.028903788,  0.043127608,  0.057915155,  0.023584437, -0.018656647,\r\n",
      "   0.039374273,  0.009139255, -0.031680353,  0.010181078]]\r\n",
      "Loss: 0.35611892\r\n",
      "∂L/∂ŷ = [[-0.24196446],\r\n",
      " [ -0.2000233],\r\n",
      " [0.029946685],\r\n",
      " [ 0.08164552]]\r\n",
      "∂L/∂layer1 = [[   0.16597457,     0.0890296,   -0.13326885,    -0.1779743,  -0.072311446,    0.05701217,\r\n",
      "    -0.12120601,  -0.028127514,    0.09740552,  -0.031685367],\r\n",
      " [    0.1372052,   0.073597565,  -0.110168554,   -0.14712493,  -0.059777264,   0.047129903,\r\n",
      "    -0.10019663,  -0.023252001,   0.080521636,   -0.02619315],\r\n",
      " [ -0.020541811,  -0.011018732,   0.016493995,   0.022026956,   0.008949612, -0.0070561003,\r\n",
      "    0.015001038,  0.0034811965,  -0.012055376,   0.003921533],\r\n",
      " [ -0.056004427,  -0.030041058,   0.044968605,   0.060053464,   0.024399888,  -0.019237487,\r\n",
      "    0.040898267,   0.009491003,  -0.032867324,   0.010691521]]\r\n",
      "Loss: 0.34967244\r\n",
      "∂L/∂ŷ = [[-0.23636964],\r\n",
      " [-0.18907148],\r\n",
      " [0.031095803],\r\n",
      " [0.084183514]]\r\n",
      "∂L/∂layer1 = [[  0.16185817,   0.08705014,  -0.13067713,  -0.17358741,  -0.07036185,   0.05532043,\r\n",
      "   -0.11843857, -0.027477136,  0.095068045, -0.031280197],\r\n",
      " [  0.12946995,   0.06963119, -0.104528315,  -0.13885212, -0.056282267,  0.044250675,\r\n",
      "  -0.094738714, -0.021978892,  0.076044686,  -0.02502095],\r\n",
      " [-0.021293385, -0.011451953,   0.01719134,  0.022836434,  0.009256511, -0.007277725,\r\n",
      "   0.015581284, 0.0036147772, -0.012506754,  0.004115092],\r\n",
      " [-0.057646107, -0.031003078,  0.046540923,    0.0618235,  0.025059512, -0.019702481,\r\n",
      "   0.042182133,  0.009786036,  -0.03385867,  0.011140504]]\r\n",
      "Loss: 0.3438152\r\n",
      "∂L/∂ŷ = [[-0.23106515],\r\n",
      " [-0.17876765],\r\n",
      " [ 0.03195831],\r\n",
      " [ 0.08628389]]\r\n",
      "∂L/∂layer1 = [[   0.15797314,    0.08517992,   -0.12819137,   -0.16941962,   -0.06850335,   0.053735502,\r\n",
      "    -0.11582381,  -0.026860509,   0.092858635,  -0.030883618],\r\n",
      " [   0.12221871,    0.06590095,   -0.09917752,   -0.13107449,  -0.052998833,   0.041573424,\r\n",
      "   -0.089609146,   -0.02078111,    0.07184173,  -0.023893658],\r\n",
      " [ -0.021849053,   -0.01178112,   0.017729975,     0.0234322,   0.009474607, -0.0074320855,\r\n",
      "    0.016019436,  0.0037150409,  -0.012843153,   0.004271472],\r\n",
      " [ -0.058990017,  -0.031807717,   0.047868963,    0.06326434,   0.025580386,  -0.020065805,\r\n",
      "      0.0432507,   0.010030198,  -0.034675088,   0.011532499]]\r\n",
      "Loss: 0.3384761\r\n",
      "∂L/∂ŷ = [[ -0.2260297],\r\n",
      " [ -0.1690661],\r\n",
      " [0.032568455],\r\n",
      " [ 0.08799219]]\r\n",
      "∂L/∂layer1 = [[     0.154301,   0.083410025,   -0.12580524,   -0.16545667,     -0.066731,   0.052248247,\r\n",
      "   -0.113349475,  -0.026275154,    0.09076726,   -0.03049564],\r\n",
      " [   0.11541434,   0.062389184,   -0.09410003,  -0.123758584,   -0.04991357,    0.03908074,\r\n",
      "   -0.084783345,  -0.019653337,    0.06789225,  -0.022810185],\r\n",
      " [  -0.02223312,  -0.012018491,   0.018127186,   0.023840532,   0.009615221, -0.0075284117,\r\n",
      "    0.016332444,  0.0037859678,  -0.013078588,   0.004394095],\r\n",
      " [  -0.06006858,   -0.03247109,    0.04897533,   0.064411424,   0.025978032,  -0.020339971,\r\n",
      "    0.044126365,   0.010228782,  -0.035335224,   0.011871795]]\r\n",
      "Loss: 0.3335942\r\n",
      "∂L/∂ŷ = [[-0.22124359],\r\n",
      " [-0.15992486],\r\n",
      " [0.032957107],\r\n",
      " [ 0.08934954]]\r\n",
      "∂L/∂layer1 = [[    0.1508249,    0.08173239,   -0.12351285,   -0.16168518,   -0.06503999,    0.05085041,\r\n",
      "    -0.11100442,  -0.025718786,     0.0887847,  -0.030116184],\r\n",
      " [   0.10902306,   0.059079867,   -0.08928067,   -0.11687335,  -0.047013845,   0.036756974,\r\n",
      "    -0.08023901,  -0.018590702,   0.064177595,  -0.021769337],\r\n",
      " [ -0.022467328,  -0.012175102,   0.018398844,   0.024085108,   0.009688552, -0.0075748293,\r\n",
      "     0.01653555,  0.0038311472,  -0.013225635,  0.0044861967],\r\n",
      " [  -0.06091085,   -0.03300774,    0.04988084,    0.06529679,   0.026266493,  -0.020536011,\r\n",
      "    0.044829294,  0.0103865685,  -0.035855826,   0.012162464]]\r\n",
      "Loss: 0.32911736\r\n",
      "∂L/∂ŷ = [[ -0.2166889],\r\n",
      " [-0.15130532],\r\n",
      " [0.033151716],\r\n",
      " [0.090393335]]\r\n",
      "∂L/∂layer1 = [[  0.14752965,   0.08013974,  -0.12130868,  -0.15809274,   -0.0634258,  0.049534593,\r\n",
      "   -0.10877859,  -0.02518932,  0.086902656, -0.029745128],\r\n",
      " [  0.10301414,  0.055958424,  -0.08470507, -0.110389926, -0.044287737,  0.034588054,\r\n",
      "    -0.0759558, -0.017588709,    0.0606807, -0.020769851],\r\n",
      " [-0.022570888, -0.012260757,  0.018559285,   0.02418696,  0.009703654, -0.007578407,\r\n",
      "   0.016642278,   0.00385377, -0.013295431,  0.004550773],\r\n",
      " [-0.061543055,  -0.03343087,  0.050604787,   0.06594952,   0.02645853,  -0.02066371,\r\n",
      "    0.04537777,  0.010507906,  -0.03625207,  0.012408394]]\r\n",
      "Loss: 0.32500064\r\n",
      "∂L/∂ŷ = [[-0.21234906],\r\n",
      " [-0.14317185],\r\n",
      " [ 0.03317684],\r\n",
      " [ 0.09115714]]\r\n",
      "∂L/∂layer1 = [[  0.14440133,  0.078625455, -0.119187534,   -0.1546677, -0.061884068,   0.04829408,\r\n",
      "   -0.10666279, -0.024684828,   0.08511352, -0.029382294],\r\n",
      " [  0.09735953,  0.053011548,  -0.08035967,  -0.10428141,  -0.04172402,  0.032561257,\r\n",
      "   -0.07191512, -0.016643222,  0.057385985, -0.019810388],\r\n",
      " [ -0.02256087, -0.012284228,  0.018621536,  0.024164861,  0.009668599, -0.007545335,\r\n",
      "   0.016664704, 0.0038566904, -0.013297904, 0.0045906096],\r\n",
      " [-0.061988555,  -0.03375231,  0.051164787,    0.0663957,  0.026565574, -0.020731667,\r\n",
      "    0.04578817,  0.010596695, -0.036537506,  0.012613222]]\r\n",
      "Loss: 0.32120517\r\n",
      "∂L/∂ŷ = [[-0.20820889],\r\n",
      " [-0.13549167],\r\n",
      " [ 0.03305462],\r\n",
      " [ 0.09167144]]\r\n",
      "∂L/∂layer1 = [[  0.14142731,   0.07718353,  -0.11714458,  -0.15139927, -0.060410682,  0.047122817,\r\n",
      "   -0.10464867, -0.024203548,   0.08341037, -0.029027475],\r\n",
      " [  0.09203365,  0.050227083,  -0.07623169,  -0.09852289, -0.039312176,  0.030665113,\r\n",
      "   -0.06809999, -0.015750429,  0.054279193, -0.018889593],\r\n",
      " [-0.022452578, -0.012253427,  0.018597523,  0.024035696,  0.009590619, -0.007481077,\r\n",
      "   0.016613709, 0.0038424828, -0.013241981,  0.004608315],\r\n",
      " [ -0.06226845,  -0.03398282,  0.051577106,  0.066658966,  0.026597971,  -0.02074751,\r\n",
      "   0.046075333,  0.010656481,  -0.03672441,  0.012780388]]\r\n"
     ]
    }
   ],
   "source": [
    "import TensorFlow\n",
    "\n",
    "struct MLP: Layer {\n",
    "    var layer1 = Dense<Float>(inputSize: 2, outputSize: 10, activation: relu)\n",
    "    var layer2 = Dense<Float>(inputSize: 10, outputSize: 1, activation: relu)\n",
    "    \n",
    "    @differentiable\n",
    "    func callAsFunction(_ input: Tensor<Float>) -> Tensor<Float> {\n",
    "        let h0 = layer1(input).withDerivative { print(\"∂L/∂layer1 =\", $0) }\n",
    "        return layer2(h0)\n",
    "    }\n",
    "}\n",
    "\n",
    "var classifier = MLP()\n",
    "let optimizer = SGD(for: classifier, learningRate: 0.02)\n",
    "\n",
    "let x: Tensor<Float> = [[0, 0], [0, 1], [1, 0], [1, 1]]\n",
    "let y: Tensor<Float> = [0, 1, 1, 0]\n",
    "\n",
    "for _ in 0..<10 {\n",
    "    let 𝛁model = classifier.gradient { classifier -> Tensor<Float> in\n",
    "        let ŷ = classifier(x).withDerivative { print(\"∂L/∂ŷ =\", $0) }\n",
    "        let loss = (ŷ - y).squared().mean()\n",
    "        print(\"Loss: \\(loss)\")\n",
    "        return loss\n",
    "    }\n",
    "    optimizer.update(&classifier, along: 𝛁model)\n",
    "}"
   ]
  },
  {
   "cell_type": "markdown",
   "metadata": {
    "colab_type": "text",
    "id": "TzLfTj28gEUD"
   },
   "source": [
    "## Recomputing activations during backpropagation to save memory (checkpointing)\n",
    "\n",
    "Checkpointing is a traditional technique in reverse-mode automatic differentiation for saving memory. Rather than saving large intermediate values in the original computation for computing derivatives, the intermediate values are instead recomputed as needed during backpropagation.\n",
    "\n",
    "This technique has been realized in modern deep learning libraries as well. In Swift, API [`withRecomputationInPullbacks(_:)`](https://www.tensorflow.org/swift/api_docs/Protocols/Differentiable#/s:10TensorFlow14DifferentiablePAAE28withRecomputationInPullbacksyqd__qd__xcAaBRd__lF) enables you to control what to recompute during backpropagation, and it is available on all `Differentiable` types.\n",
    "\n",
    "But today, let us learn how to define our own gradient checkpointing APIs from scratch, in just a few lines of code."
   ]
  },
  {
   "cell_type": "markdown",
   "metadata": {
    "colab_type": "text",
    "id": "5cZe-JbjwMfZ"
   },
   "source": [
    "### Our gradient checkpointing API"
   ]
  },
  {
   "cell_type": "markdown",
   "metadata": {
    "colab_type": "text",
    "id": "606ob1dn2v77"
   },
   "source": [
    "We can define our own gradient checkpointing API, `makeRecomputedInGradient(_:)`, in terms of standard library function [`differentiableFunction(from:)`](https://www.tensorflow.org/swift/api_docs/Functions#/s:10TensorFlow22differentiableFunction4fromq0_x_q_tcq0_5value_15CotangentVectorQz_AEQy_tAEQy0_c8pullbacktx_q_tc_tAA14DifferentiableRzAaJR_AaJR0_r1_lF), which is a shorthand for creating a differentiable function directly from a derivative function (also called a \"vector-Jacobian products (VJP) function\").\n",
    "\n",
    "As we have seen before, the derivative function returns a tuple of the original function's result and a pullback closure. We return `original(x)` in `value:`, and call `pullback(at:in:)` on `original` to evaluate the original function again and get a pullback."
   ]
  },
  {
   "cell_type": "code",
   "execution_count": 5,
   "metadata": {
    "colab": {},
    "colab_type": "code",
    "id": "b1uU3tcVwl_1"
   },
   "outputs": [],
   "source": [
    "/// Given a differentiable function, returns the same differentiable function except when\n",
    "/// derivatives of this function are being computed. In that case, values in the original function needed\n",
    "/// for computing the derivatives will be recomputed, instead of being captured by the differential or pullback.\n",
    "///\n",
    "/// - Parameter body: The body of the differentiable function.\n",
    "/// - Returns: The same differentiable function whose derivatives, when computed, will recompute\n",
    "///   some values from the original function.\n",
    "func makeRecomputedInGradient<T: Differentiable, U: Differentiable>(\n",
    "    _ original: @escaping @differentiable (T) -> U\n",
    ") -> @differentiable (T) -> U {\n",
    "    return differentiableFunction { x in\n",
    "        (value: original(x), pullback: { v in pullback(at: x, in: original)(v) })\n",
    "    }\n",
    "}"
   ]
  },
  {
   "cell_type": "markdown",
   "metadata": {
    "colab_type": "text",
    "id": "UbeKj7NEF7zz"
   },
   "source": [
    "### Verify it works"
   ]
  },
  {
   "cell_type": "code",
   "execution_count": 6,
   "metadata": {
    "colab": {
     "base_uri": "https://localhost:8080/",
     "height": 102
    },
    "colab_type": "code",
    "id": "oee8SXital45",
    "outputId": "f4e7bd68-606a-46d6-96f4-c5294d8e302a"
   },
   "outputs": [
    {
     "name": "stdout",
     "output_type": "stream",
     "text": [
      "Running original computation...\r\n",
      "  Computing square...\r\n",
      "Running backpropagation...\r\n",
      "  Computing square...\r\n",
      "Gradient = -0.9129453\r\n"
     ]
    }
   ],
   "source": [
    "let input: Float = 10.0\n",
    "print(\"Running original computation...\")\n",
    "\n",
    "// Differentiable multiplication with checkpointing.\n",
    "let square = makeRecomputedInGradient { (x: Float) -> Float in\n",
    "    print(\"  Computing square...\")\n",
    "    return x * x\n",
    "}\n",
    "\n",
    "// Differentiate `f(x) = (cos(x))^2`.\n",
    "let (output, backprop) = input.valueWithPullback { input -> Float in\n",
    "    return square(cos(input))\n",
    "}\n",
    "print(\"Running backpropagation...\")\n",
    "let grad = backprop(1)\n",
    "print(\"Gradient = \\(grad)\")"
   ]
  },
  {
   "cell_type": "markdown",
   "metadata": {
    "colab_type": "text",
    "id": "7SxWsSUqF9Bh"
   },
   "source": [
    "### Extend it to neural network modules\n",
    "\n",
    "In this example, we define a simple convolutional neural network.\n",
    "\n",
    "```swift\n",
    "struct Model: Layer {\n",
    "    var conv = Conv2D<Float>(filterShape: (5, 5, 3, 6))\n",
    "    var maxPool = MaxPool2D<Float>(poolSize: (2, 2), strides: (2, 2))\n",
    "    var flatten = Flatten<Float>()\n",
    "    var dense = Dense<Float>(inputSize: 36 * 6, outputSize: 10)\n",
    "\n",
    "    @differentiable\n",
    "    func call(_ input: Tensor<Float>) -> Tensor<Float> {\n",
    "        return input.sequenced(through: conv, maxPool, flatten, dense)\n",
    "    }\n",
    "}\n",
    "```\n",
    "\n",
    "We want to make activations in the convolution layer (`conv`) be recomputed during backpropagation. However, using `makeRecomputedInGradient(_:)` could make the resulting code look cumbersome, especially when we want to apply layers sequentially using [`sequenced(in:through:_:_:_:_:)`](https://www.tensorflow.org/swift/api_docs/Protocols/Differentiable#/s:10TensorFlow14DifferentiablePAAE9sequenced2in7through____6OutputQyd_3_AA7ContextC_qd__qd_0_qd_1_qd_2_qd_3_t5InputQyd__RszAA5LayerRd__AaMRd_0_AaMRd_1_AaMRd_2_AaMRd_3_AKQyd_0_AGRtd__AKQyd_1_AGRtd_0_AKQyd_2_AGRtd_1_AKQyd_3_AGRtd_2_r3_lF).\n",
    "\n",
    "```swift\n",
    "input.sequenced(in: context, through: conv, maxPool, flatten, dense)\n",
    "```\n",
    "\n",
    "So, why don't we define a **special layer type** that wraps a layer and makes its activations be recomputed during backpropagation? Let's do it."
   ]
  },
  {
   "cell_type": "markdown",
   "metadata": {
    "colab_type": "text",
    "id": "ZP86M5RjP3OG"
   },
   "source": [
    "First, we define a `makeRecomputedInGradient(_:)` function that takes a binary function."
   ]
  },
  {
   "cell_type": "code",
   "execution_count": 7,
   "metadata": {
    "colab": {},
    "colab_type": "code",
    "id": "bEm-n5H0QB8s"
   },
   "outputs": [],
   "source": [
    "// Same as the previous `makeRecomputedInGradient(_:)`, except it's for binary functions.\n",
    "func makeRecomputedInGradient<T: Differentiable, U: Differentiable, V: Differentiable>(\n",
    "    _ original: @escaping @differentiable (T, U) -> V\n",
    ") -> @differentiable (T, U) -> V {\n",
    "    return differentiableFunction { x, y in\n",
    "        (value: original(x, y), pullback: { v in pullback(at: x, y, in: original)(v) })\n",
    "    }\n",
    "}"
   ]
  },
  {
   "cell_type": "markdown",
   "metadata": {
    "colab_type": "text",
    "id": "YU6DgqXxP5Nl"
   },
   "source": [
    "Then, we define a generic layer `ActivationDiscarding<Wrapped>`."
   ]
  },
  {
   "cell_type": "code",
   "execution_count": 8,
   "metadata": {
    "colab": {},
    "colab_type": "code",
    "id": "ao1r_lIPGeOl"
   },
   "outputs": [],
   "source": [
    "import TensorFlow\n",
    "\n",
    "/// A layer wrapper that makes the underlying layer's activations be discarded during application\n",
    "/// and recomputed during backpropagation.\n",
    "struct ActivationDiscarding<Wrapped: Layer>: Layer {\n",
    "    /// The wrapped layer.\n",
    "    var wrapped: Wrapped\n",
    "\n",
    "    @differentiable\n",
    "    func callAsFunction(_ input: Wrapped.Input) -> Wrapped.Output {\n",
    "        let apply = makeRecomputedInGradient { (layer: Wrapped, input: Input) -> Wrapped.Output in\n",
    "            print(\"    Applying \\(Wrapped.self) layer...\")\n",
    "            return layer(input)\n",
    "        }\n",
    "        return apply(wrapped, input)\n",
    "    }\n",
    "}"
   ]
  },
  {
   "cell_type": "markdown",
   "metadata": {
    "colab_type": "text",
    "id": "HqPXwwuTRjmz"
   },
   "source": [
    "Finally, we can add a method on all layers that returns the same layer except its activations are discarded during application and recomputed during backpropagation."
   ]
  },
  {
   "cell_type": "code",
   "execution_count": 9,
   "metadata": {
    "colab": {},
    "colab_type": "code",
    "id": "PGgkNnNNR1th"
   },
   "outputs": [],
   "source": [
    "extension Layer {\n",
    "    func discardingActivations() -> ActivationDiscarding<Self> {\n",
    "        return ActivationDiscarding(wrapped: self)\n",
    "    }\n",
    "}"
   ]
  },
  {
   "cell_type": "markdown",
   "metadata": {
    "colab_type": "text",
    "id": "8PP-NZ9XU5_n"
   },
   "source": [
    "Back in the model, all we have to change is to wrap the convolution layer into the activation-recomputing layer.\n",
    "\n",
    "```swift\n",
    "var conv = Conv2D<Float>(filterShape: (5, 5, 3, 6)).discardingActivations()\n",
    "```"
   ]
  },
  {
   "cell_type": "markdown",
   "metadata": {
    "colab_type": "text",
    "id": "bCwNPtCfSbGi"
   },
   "source": [
    "Now, simply use it in the model!"
   ]
  },
  {
   "cell_type": "code",
   "execution_count": 11,
   "metadata": {
    "colab": {},
    "colab_type": "code",
    "id": "gsWGwFjOJ3Md"
   },
   "outputs": [],
   "source": [
    "struct Model: Layer {\n",
    "    var conv = Conv2D<Float>(filterShape: (5, 5, 3, 6)).discardingActivations()\n",
    "    var maxPool = MaxPool2D<Float>(poolSize: (2, 2), strides: (2, 2))\n",
    "    var flatten = Flatten<Float>()\n",
    "    var dense = Dense<Float>(inputSize: 36 * 6, outputSize: 10)\n",
    "\n",
    "    @differentiable\n",
    "    func callAsFunction(_ input: Tensor<Float>) -> Tensor<Float> {\n",
    "        return input.sequenced(through: conv, maxPool, flatten, dense)\n",
    "    }\n",
    "}"
   ]
  },
  {
   "cell_type": "markdown",
   "metadata": {
    "colab_type": "text",
    "id": "dmFxciU6VYdF"
   },
   "source": [
    "When we run a training loop, we can see that the convolution layer's activations are computed twice: once during layer application, and once during backpropagation."
   ]
  },
  {
   "cell_type": "code",
   "execution_count": 12,
   "metadata": {
    "colab": {
     "base_uri": "https://localhost:8080/",
     "height": 527
    },
    "colab_type": "code",
    "id": "-x1nYu0uVSPn",
    "outputId": "fcdc6e19-2ffa-49f3-908f-e5823a485f9d"
   },
   "outputs": [
    {
     "name": "stdout",
     "output_type": "stream",
     "text": [
      "Starting training step 1\r\n",
      "  Running original computation...\r\n",
      "    Applying Conv2D<Float> layer...\r\n",
      "  Loss: 3.1912904\r\n",
      "  Running backpropagation...\r\n",
      "    Applying Conv2D<Float> layer...\r\n",
      "Starting training step 2\r\n",
      "  Running original computation...\r\n",
      "    Applying Conv2D<Float> layer...\r\n",
      "  Loss: 2.8539681\r\n",
      "  Running backpropagation...\r\n",
      "    Applying Conv2D<Float> layer...\r\n",
      "Starting training step 3\r\n",
      "  Running original computation...\r\n",
      "    Applying Conv2D<Float> layer...\r\n",
      "  Loss: 2.5659466\r\n",
      "  Running backpropagation...\r\n",
      "    Applying Conv2D<Float> layer...\r\n",
      "Starting training step 4\r\n",
      "  Running original computation...\r\n",
      "    Applying Conv2D<Float> layer...\r\n",
      "  Loss: 2.3152032\r\n",
      "  Running backpropagation...\r\n",
      "    Applying Conv2D<Float> layer...\r\n",
      "Starting training step 5\r\n",
      "  Running original computation...\r\n",
      "    Applying Conv2D<Float> layer...\r\n",
      "  Loss: 2.097056\r\n",
      "  Running backpropagation...\r\n",
      "    Applying Conv2D<Float> layer...\r\n"
     ]
    }
   ],
   "source": [
    "// Use random training data.\n",
    "let x = Tensor<Float>(randomNormal: [10, 16, 16, 3])\n",
    "let y = Tensor<Int32>(rangeFrom: 0, to: 10, stride: 1)\n",
    "\n",
    "var model = Model()\n",
    "let opt = SGD(for: model)\n",
    "\n",
    "for i in 1...5 {\n",
    "    print(\"Starting training step \\(i)\")\n",
    "    print(\"  Running original computation...\")\n",
    "    let (logits, backprop) = model.appliedForBackpropagation(to: x)\n",
    "    let (loss, dL_dŷ) = logits.valueWithGradient { logits in\n",
    "        softmaxCrossEntropy(logits: logits, labels: y)\n",
    "    }\n",
    "    print(\"  Loss: \\(loss)\")\n",
    "    print(\"  Running backpropagation...\")\n",
    "    let (dL_dθ, _) = backprop(dL_dŷ)\n",
    "    \n",
    "    opt.update(&model, along: dL_dθ)\n",
    "}"
   ]
  },
  {
   "cell_type": "markdown",
   "metadata": {
    "colab_type": "text",
    "id": "gzRaZLa_WX0u"
   },
   "source": [
    "Just like that, it is super easy to define generic differentiable programming libraries for different domains."
   ]
  }
 ],
 "metadata": {
  "colab": {
   "collapsed_sections": [],
   "name": "Custom differentiation.ipynb",
   "provenance": [],
   "toc_visible": true,
   "version": "0.3.2"
  },
  "kernelspec": {
   "display_name": "Swift",
   "language": "swift",
   "name": "swift"
  },
  "language_info": {
   "file_extension": ".swift",
   "mimetype": "text/x-swift",
   "name": "swift",
   "version": ""
  }
 },
 "nbformat": 4,
 "nbformat_minor": 1
}
